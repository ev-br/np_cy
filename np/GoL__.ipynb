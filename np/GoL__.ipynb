{
 "cells": [
  {
   "cell_type": "code",
   "execution_count": 1,
   "metadata": {},
   "outputs": [],
   "source": [
    "import numpy as np\n",
    "\n",
    "from matplotlib import style as mstyle\n",
    "mstyle.use('ggplot')\n",
    "\n",
    "import matplotlib.pyplot as plt\n",
    "import matplotlib.animation as animation"
   ]
  },
  {
   "cell_type": "code",
   "execution_count": 2,
   "metadata": {
    "collapsed": true
   },
   "outputs": [],
   "source": [
    "def step(X):\n",
    "    \"\"\"Given a game board ``X``, make a time step and return the result.\n",
    "    \n",
    "    For each cell, \n",
    "    * if the sum of the n.neighbors is 3,\n",
    "              the next stage is life\n",
    "    * if the sum of the n.neighbors is 4,\n",
    "              the next stage does not change\n",
    "    * otherwise, the next stage is zero\n",
    "    \n",
    "    NB: In this implementation the game field is finite.\n",
    "\n",
    "    \"\"\"\n",
    "    num_neighb = (X[:-2, :-2]  + X[1:-1, :-2]  + X[2:, :-2] +\n",
    "                  X[:-2, 1:-1] + X[1:-1, 1:-1] + X[2:, 1:-1] +\n",
    "                  X[:-2, 2:]   + X[1:-1, 2:]   + X[2:, 2:])\n",
    "    \n",
    "    X[1:-1, 1:-1][num_neighb == 3] = 1\n",
    "    X[1:-1, 1:-1][(num_neighb != 4) & (num_neighb != 3)] = 0\n",
    "    return X"
   ]
  },
  {
   "cell_type": "code",
   "execution_count": 3,
   "metadata": {
    "collapsed": true
   },
   "outputs": [],
   "source": [
    "def animate_field(frames=100):\n",
    "    fig, ax = plt.subplots()\n",
    "    ax.set_xlim(0, field.shape[0])\n",
    "    ax.set_ylim(0, field.shape[1])\n",
    "    ax.set_aspect('equal')\n",
    "    ax.set_xticklabels([])\n",
    "    ax.set_yticklabels([])\n",
    "    \n",
    "    x, y = np.nonzero(field)\n",
    "    img, = ax.plot(x, y, 'mo', ms=17, alpha=0.5)\n",
    "\n",
    "    def init():\n",
    "        img.set_xdata([])\n",
    "        img.set_ydata([])\n",
    "        return img,\n",
    "\n",
    "    def animate(i):\n",
    "        global field\n",
    "        field = step(field)\n",
    "        x, y = np.nonzero(field)\n",
    "        img.set_xdata(x)\n",
    "        img.set_ydata(y)\n",
    "        return img,\n",
    "\n",
    "    ani = animation.FuncAnimation(fig, animate, init_func=init, interval=350)\n",
    "    \n",
    "    return ani"
   ]
  },
  {
   "cell_type": "code",
   "execution_count": 4,
   "metadata": {
    "collapsed": true
   },
   "outputs": [],
   "source": [
    "N = 27\n",
    "\n",
    "# a simple blinker\n",
    "#field = np.zeros((N, N), dtype=int)\n",
    "#field[3:6, 2] = 1\n",
    "\n",
    "field = np.zeros((N, N), dtype=int)\n",
    "np.random.seed(1234)\n",
    "r = np.random.random(size=(12, 12))\n",
    "field[10:22, 10:22] = r > 0.1\n",
    "\n",
    "ani = animate_field(False)\n",
    "plt.show()"
   ]
  },
  {
   "cell_type": "code",
   "execution_count": 10,
   "metadata": {
    "collapsed": true
   },
   "outputs": [],
   "source": [
    "# 1234 / 12x12 / N=27 / thresh=0.6"
   ]
  }
 ],
 "metadata": {
  "kernelspec": {
   "display_name": "Python 3",
   "language": "python",
   "name": "python3"
  },
  "language_info": {
   "codemirror_mode": {
    "name": "ipython",
    "version": 3
   },
   "file_extension": ".py",
   "mimetype": "text/x-python",
   "name": "python",
   "nbconvert_exporter": "python",
   "pygments_lexer": "ipython3",
   "version": "3.8.5"
  }
 },
 "nbformat": 4,
 "nbformat_minor": 1
}
